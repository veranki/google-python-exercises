{
 "cells": [
  {
   "cell_type": "markdown",
   "metadata": {},
   "source": [
    "# Files"
   ]
  },
  {
   "cell_type": "markdown",
   "metadata": {},
   "source": [
    "* open() opens and returns a file\n",
    "* close() closes the file\n",
    "* open('name','r'), 'r' for read, 'w' for write, 'U' for universal where it takes care about different line-endings."
   ]
  },
  {
   "cell_type": "code",
   "execution_count": 8,
   "metadata": {},
   "outputs": [
    {
     "name": "stdout",
     "output_type": "stream",
     "text": [
      "Code for Google's Python Class\n",
      "Copyright 2010 Google Inc.\n",
      "\n",
      "This code developed by Nick Parlante\n",
      "at Google Inc.\n"
     ]
    }
   ],
   "source": [
    "f = open('NOTICE.txt','rU')\n",
    "for line in f:\n",
    "    print line,# trailing comma to remove eol by print command\n",
    "f.close()"
   ]
  },
  {
   "cell_type": "markdown",
   "metadata": {},
   "source": [
    "## Files Unicode"
   ]
  },
  {
   "cell_type": "code",
   "execution_count": 10,
   "metadata": {},
   "outputs": [
    {
     "name": "stdout",
     "output_type": "stream",
     "text": [
      "Code for Google's Python Class\n",
      "\n",
      "Copyright 2010 Google Inc.\n",
      "\n",
      "\n",
      "\n",
      "This code developed by Nick Parlante\n",
      "\n",
      "at Google Inc.\n",
      "\n"
     ]
    }
   ],
   "source": [
    "import codecs\n",
    "f = codecs.open('NOTICE.txt','rU','utf-8')\n",
    "for line in f:\n",
    "    print line# without trailing comma eol is printed by print command\n",
    "f.close()"
   ]
  },
  {
   "cell_type": "code",
   "execution_count": null,
   "metadata": {
    "collapsed": true
   },
   "outputs": [],
   "source": []
  }
 ],
 "metadata": {
  "kernelspec": {
   "display_name": "Python 2",
   "language": "python",
   "name": "python2"
  },
  "language_info": {
   "codemirror_mode": {
    "name": "ipython",
    "version": 2
   },
   "file_extension": ".py",
   "mimetype": "text/x-python",
   "name": "python",
   "nbconvert_exporter": "python",
   "pygments_lexer": "ipython2",
   "version": "2.7.14"
  }
 },
 "nbformat": 4,
 "nbformat_minor": 2
}
